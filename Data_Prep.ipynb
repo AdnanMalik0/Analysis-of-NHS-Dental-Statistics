{
 "cells": [
  {
   "cell_type": "code",
   "execution_count": 72,
   "metadata": {},
   "outputs": [],
   "source": [
    "import pandas as pd"
   ]
  },
  {
   "cell_type": "markdown",
   "metadata": {},
   "source": [
    "DENTISTS DATA (Using Annex2 for Mapping)\n",
    "---"
   ]
  },
  {
   "cell_type": "code",
   "execution_count": 73,
   "metadata": {},
   "outputs": [],
   "source": [
    "dentist1=pd.read_csv(\"NHS Dental Statistics for England 2018-19 Annex3_Workforce.csv\")"
   ]
  },
  {
   "cell_type": "code",
   "execution_count": 74,
   "metadata": {},
   "outputs": [
    {
     "name": "stdout",
     "output_type": "stream",
     "text": [
      "Shape before:  (37358, 9)\n",
      "duplicate records:  0\n",
      "Shape after:  (37358, 9)\n"
     ]
    }
   ],
   "source": [
    "print(\"Shape before: \",dentist1.shape)\n",
    "print('duplicate records: ',dentist1.duplicated().sum())\n",
    "dd=dentist1.drop_duplicates()\n",
    "print(\"Shape after: \",dd.shape)\n",
    "# dentist1.isnull().sum().sum()"
   ]
  },
  {
   "cell_type": "code",
   "execution_count": 75,
   "metadata": {
    "scrolled": false
   },
   "outputs": [
    {
     "name": "stdout",
     "output_type": "stream",
     "text": [
      "Nulls in Org_Code/CCG_Code:  0\n",
      "Shape of df:  (3420, 9)\n",
      "Years covered:  ['2018-19']\n",
      "Geography:  ['4.Clinical Commissioning Group']\n"
     ]
    },
    {
     "data": {
      "text/html": [
       "<div>\n",
       "<style scoped>\n",
       "    .dataframe tbody tr th:only-of-type {\n",
       "        vertical-align: middle;\n",
       "    }\n",
       "\n",
       "    .dataframe tbody tr th {\n",
       "        vertical-align: top;\n",
       "    }\n",
       "\n",
       "    .dataframe thead th {\n",
       "        text-align: right;\n",
       "    }\n",
       "</style>\n",
       "<table border=\"1\" class=\"dataframe\">\n",
       "  <thead>\n",
       "    <tr style=\"text-align: right;\">\n",
       "      <th></th>\n",
       "      <th>Year</th>\n",
       "      <th>Geography</th>\n",
       "      <th>Parent_Code_1</th>\n",
       "      <th>Parent_Code_2</th>\n",
       "      <th>Org_Code</th>\n",
       "      <th>Contract_Type</th>\n",
       "      <th>Age_Group</th>\n",
       "      <th>Gender</th>\n",
       "      <th>Dentist_Count</th>\n",
       "    </tr>\n",
       "  </thead>\n",
       "  <tbody>\n",
       "    <tr>\n",
       "      <th>33533</th>\n",
       "      <td>2018-19</td>\n",
       "      <td>4.Clinical Commissioning Group</td>\n",
       "      <td>Y56</td>\n",
       "      <td>Q71</td>\n",
       "      <td>07L</td>\n",
       "      <td>GDS</td>\n",
       "      <td>45-54</td>\n",
       "      <td>F</td>\n",
       "      <td>4</td>\n",
       "    </tr>\n",
       "    <tr>\n",
       "      <th>33534</th>\n",
       "      <td>2018-19</td>\n",
       "      <td>4.Clinical Commissioning Group</td>\n",
       "      <td>Y56</td>\n",
       "      <td>Q71</td>\n",
       "      <td>07L</td>\n",
       "      <td>GDS</td>\n",
       "      <td>55+</td>\n",
       "      <td>F</td>\n",
       "      <td>2</td>\n",
       "    </tr>\n",
       "    <tr>\n",
       "      <th>33535</th>\n",
       "      <td>2018-19</td>\n",
       "      <td>4.Clinical Commissioning Group</td>\n",
       "      <td>Y56</td>\n",
       "      <td>Q71</td>\n",
       "      <td>07L</td>\n",
       "      <td>TDS</td>\n",
       "      <td>35-44</td>\n",
       "      <td>F</td>\n",
       "      <td>6</td>\n",
       "    </tr>\n",
       "    <tr>\n",
       "      <th>33536</th>\n",
       "      <td>2018-19</td>\n",
       "      <td>4.Clinical Commissioning Group</td>\n",
       "      <td>Y56</td>\n",
       "      <td>Q71</td>\n",
       "      <td>07M</td>\n",
       "      <td>GDS</td>\n",
       "      <td>35-44</td>\n",
       "      <td>F</td>\n",
       "      <td>30</td>\n",
       "    </tr>\n",
       "    <tr>\n",
       "      <th>33537</th>\n",
       "      <td>2018-19</td>\n",
       "      <td>4.Clinical Commissioning Group</td>\n",
       "      <td>Y56</td>\n",
       "      <td>Q71</td>\n",
       "      <td>07M</td>\n",
       "      <td>GDS</td>\n",
       "      <td>55+</td>\n",
       "      <td>M</td>\n",
       "      <td>30</td>\n",
       "    </tr>\n",
       "  </tbody>\n",
       "</table>\n",
       "</div>"
      ],
      "text/plain": [
       "          Year                       Geography Parent_Code_1 Parent_Code_2  \\\n",
       "33533  2018-19  4.Clinical Commissioning Group           Y56           Q71   \n",
       "33534  2018-19  4.Clinical Commissioning Group           Y56           Q71   \n",
       "33535  2018-19  4.Clinical Commissioning Group           Y56           Q71   \n",
       "33536  2018-19  4.Clinical Commissioning Group           Y56           Q71   \n",
       "33537  2018-19  4.Clinical Commissioning Group           Y56           Q71   \n",
       "\n",
       "      Org_Code Contract_Type Age_Group Gender  Dentist_Count  \n",
       "33533      07L           GDS     45-54      F              4  \n",
       "33534      07L           GDS       55+      F              2  \n",
       "33535      07L           TDS     35-44      F              6  \n",
       "33536      07M           GDS     35-44      F             30  \n",
       "33537      07M           GDS       55+      M             30  "
      ]
     },
     "execution_count": 75,
     "metadata": {},
     "output_type": "execute_result"
    }
   ],
   "source": [
    "dentist1=dentist1[(dentist1.Geography=='4.Clinical Commissioning Group') & (dentist1.Year=='2018-19')]\n",
    "print(\"Nulls in Org_Code/CCG_Code: \",dentist1.isnull().sum()['Org_Code'])\n",
    "print(\"Shape of df: \",dentist1.shape)\n",
    "print(\"Years covered: \",list(dentist1.Year.unique()))\n",
    "print(\"Geography: \",list(dentist1.Geography.unique()))\n",
    "dentist1.head()"
   ]
  },
  {
   "cell_type": "code",
   "execution_count": 76,
   "metadata": {},
   "outputs": [],
   "source": [
    "dentist2=pd.read_csv(\"NHS Dental Statistics for England 2018-19 Annex3_Workforce_Joiners_Leavers csv.csv\")"
   ]
  },
  {
   "cell_type": "code",
   "execution_count": 77,
   "metadata": {},
   "outputs": [
    {
     "name": "stdout",
     "output_type": "stream",
     "text": [
      "Nulls in Org_Code/CCG_Code:  0\n",
      "Shape of df:  (791, 10)\n",
      "Years covered:  ['2018-19']\n",
      "Geography:  ['4.Clinical Commissioning Group']\n"
     ]
    },
    {
     "data": {
      "text/html": [
       "<div>\n",
       "<style scoped>\n",
       "    .dataframe tbody tr th:only-of-type {\n",
       "        vertical-align: middle;\n",
       "    }\n",
       "\n",
       "    .dataframe tbody tr th {\n",
       "        vertical-align: top;\n",
       "    }\n",
       "\n",
       "    .dataframe thead th {\n",
       "        text-align: right;\n",
       "    }\n",
       "</style>\n",
       "<table border=\"1\" class=\"dataframe\">\n",
       "  <thead>\n",
       "    <tr style=\"text-align: right;\">\n",
       "      <th></th>\n",
       "      <th>Year</th>\n",
       "      <th>Geography</th>\n",
       "      <th>Parent_Code_1</th>\n",
       "      <th>Parent_Code_2</th>\n",
       "      <th>Org_Code</th>\n",
       "      <th>Contract_Type</th>\n",
       "      <th>Age_Group</th>\n",
       "      <th>Gender</th>\n",
       "      <th>Dentist_Count</th>\n",
       "    </tr>\n",
       "  </thead>\n",
       "  <tbody>\n",
       "    <tr>\n",
       "      <th>17428</th>\n",
       "      <td>2018-19</td>\n",
       "      <td>4.Clinical Commissioning Group</td>\n",
       "      <td>Y56</td>\n",
       "      <td>Q71</td>\n",
       "      <td>07L</td>\n",
       "      <td>GDS</td>\n",
       "      <td>Under 35</td>\n",
       "      <td>F</td>\n",
       "      <td>7</td>\n",
       "    </tr>\n",
       "    <tr>\n",
       "      <th>17429</th>\n",
       "      <td>2018-19</td>\n",
       "      <td>4.Clinical Commissioning Group</td>\n",
       "      <td>Y56</td>\n",
       "      <td>Q71</td>\n",
       "      <td>07M</td>\n",
       "      <td>GDS</td>\n",
       "      <td>35-44</td>\n",
       "      <td>M</td>\n",
       "      <td>1</td>\n",
       "    </tr>\n",
       "    <tr>\n",
       "      <th>17430</th>\n",
       "      <td>2018-19</td>\n",
       "      <td>4.Clinical Commissioning Group</td>\n",
       "      <td>Y56</td>\n",
       "      <td>Q71</td>\n",
       "      <td>07M</td>\n",
       "      <td>GDS</td>\n",
       "      <td>55+</td>\n",
       "      <td>F</td>\n",
       "      <td>1</td>\n",
       "    </tr>\n",
       "    <tr>\n",
       "      <th>17431</th>\n",
       "      <td>2018-19</td>\n",
       "      <td>4.Clinical Commissioning Group</td>\n",
       "      <td>Y56</td>\n",
       "      <td>Q71</td>\n",
       "      <td>07M</td>\n",
       "      <td>GDS</td>\n",
       "      <td>Under 35</td>\n",
       "      <td>F</td>\n",
       "      <td>8</td>\n",
       "    </tr>\n",
       "    <tr>\n",
       "      <th>17432</th>\n",
       "      <td>2018-19</td>\n",
       "      <td>4.Clinical Commissioning Group</td>\n",
       "      <td>Y56</td>\n",
       "      <td>Q71</td>\n",
       "      <td>07M</td>\n",
       "      <td>GDS</td>\n",
       "      <td>Under 35</td>\n",
       "      <td>M</td>\n",
       "      <td>2</td>\n",
       "    </tr>\n",
       "  </tbody>\n",
       "</table>\n",
       "</div>"
      ],
      "text/plain": [
       "          Year                       Geography Parent_Code_1 Parent_Code_2  \\\n",
       "17428  2018-19  4.Clinical Commissioning Group           Y56           Q71   \n",
       "17429  2018-19  4.Clinical Commissioning Group           Y56           Q71   \n",
       "17430  2018-19  4.Clinical Commissioning Group           Y56           Q71   \n",
       "17431  2018-19  4.Clinical Commissioning Group           Y56           Q71   \n",
       "17432  2018-19  4.Clinical Commissioning Group           Y56           Q71   \n",
       "\n",
       "      Org_Code Contract_Type Age_Group Gender  Dentist_Count  \n",
       "17428      07L           GDS  Under 35      F              7  \n",
       "17429      07M           GDS     35-44      M              1  \n",
       "17430      07M           GDS       55+      F              1  \n",
       "17431      07M           GDS  Under 35      F              8  \n",
       "17432      07M           GDS  Under 35      M              2  "
      ]
     },
     "execution_count": 77,
     "metadata": {},
     "output_type": "execute_result"
    }
   ],
   "source": [
    "dentist2=dentist2[(dentist2.Geography=='4.Clinical Commissioning Group') & (dentist2.Year=='2018-19')]\n",
    "print(\"Nulls in Org_Code/CCG_Code: \",dentist2.isnull().sum()['Org_Code'])\n",
    "print(\"Shape of df: \",dentist2.shape)\n",
    "print(\"Years covered: \",list(dentist2.Year.unique()))\n",
    "print(\"Geography: \",list(dentist2.Geography.unique()))\n",
    "dentist2.drop('Joiner_Leaver',inplace=True,axis=1)\n",
    "dentist2.head()"
   ]
  },
  {
   "cell_type": "code",
   "execution_count": 78,
   "metadata": {
    "scrolled": false
   },
   "outputs": [
    {
     "data": {
      "text/html": [
       "<div>\n",
       "<style scoped>\n",
       "    .dataframe tbody tr th:only-of-type {\n",
       "        vertical-align: middle;\n",
       "    }\n",
       "\n",
       "    .dataframe tbody tr th {\n",
       "        vertical-align: top;\n",
       "    }\n",
       "\n",
       "    .dataframe thead th {\n",
       "        text-align: right;\n",
       "    }\n",
       "</style>\n",
       "<table border=\"1\" class=\"dataframe\">\n",
       "  <thead>\n",
       "    <tr style=\"text-align: right;\">\n",
       "      <th></th>\n",
       "      <th>Year</th>\n",
       "      <th>Geography</th>\n",
       "      <th>Parent_Code_1</th>\n",
       "      <th>Parent_Code_2</th>\n",
       "      <th>Org_Code</th>\n",
       "      <th>Contract_Type</th>\n",
       "      <th>Age_Group</th>\n",
       "      <th>Gender</th>\n",
       "      <th>Dentist_Count</th>\n",
       "    </tr>\n",
       "  </thead>\n",
       "  <tbody>\n",
       "    <tr>\n",
       "      <th>33537</th>\n",
       "      <td>2018-19</td>\n",
       "      <td>4.Clinical Commissioning Group</td>\n",
       "      <td>Y56</td>\n",
       "      <td>Q71</td>\n",
       "      <td>07M</td>\n",
       "      <td>GDS</td>\n",
       "      <td>55+</td>\n",
       "      <td>M</td>\n",
       "      <td>30</td>\n",
       "    </tr>\n",
       "    <tr>\n",
       "      <th>33538</th>\n",
       "      <td>2018-19</td>\n",
       "      <td>4.Clinical Commissioning Group</td>\n",
       "      <td>Y56</td>\n",
       "      <td>Q71</td>\n",
       "      <td>07M</td>\n",
       "      <td>PDS</td>\n",
       "      <td>55+</td>\n",
       "      <td>F</td>\n",
       "      <td>1</td>\n",
       "    </tr>\n",
       "    <tr>\n",
       "      <th>34449</th>\n",
       "      <td>2018-19</td>\n",
       "      <td>4.Clinical Commissioning Group</td>\n",
       "      <td>Y56</td>\n",
       "      <td>Q71</td>\n",
       "      <td>07M</td>\n",
       "      <td>GDS</td>\n",
       "      <td>55+</td>\n",
       "      <td>F</td>\n",
       "      <td>5</td>\n",
       "    </tr>\n",
       "    <tr>\n",
       "      <th>35563</th>\n",
       "      <td>2018-19</td>\n",
       "      <td>4.Clinical Commissioning Group</td>\n",
       "      <td>Y56</td>\n",
       "      <td>Q71</td>\n",
       "      <td>07M</td>\n",
       "      <td>PDS</td>\n",
       "      <td>55+</td>\n",
       "      <td>M</td>\n",
       "      <td>3</td>\n",
       "    </tr>\n",
       "  </tbody>\n",
       "</table>\n",
       "</div>"
      ],
      "text/plain": [
       "          Year                       Geography Parent_Code_1 Parent_Code_2  \\\n",
       "33537  2018-19  4.Clinical Commissioning Group           Y56           Q71   \n",
       "33538  2018-19  4.Clinical Commissioning Group           Y56           Q71   \n",
       "34449  2018-19  4.Clinical Commissioning Group           Y56           Q71   \n",
       "35563  2018-19  4.Clinical Commissioning Group           Y56           Q71   \n",
       "\n",
       "      Org_Code Contract_Type Age_Group Gender  Dentist_Count  \n",
       "33537      07M           GDS       55+      M             30  \n",
       "33538      07M           PDS       55+      F              1  \n",
       "34449      07M           GDS       55+      F              5  \n",
       "35563      07M           PDS       55+      M              3  "
      ]
     },
     "metadata": {},
     "output_type": "display_data"
    },
    {
     "data": {
      "text/html": [
       "<div>\n",
       "<style scoped>\n",
       "    .dataframe tbody tr th:only-of-type {\n",
       "        vertical-align: middle;\n",
       "    }\n",
       "\n",
       "    .dataframe tbody tr th {\n",
       "        vertical-align: top;\n",
       "    }\n",
       "\n",
       "    .dataframe thead th {\n",
       "        text-align: right;\n",
       "    }\n",
       "</style>\n",
       "<table border=\"1\" class=\"dataframe\">\n",
       "  <thead>\n",
       "    <tr style=\"text-align: right;\">\n",
       "      <th></th>\n",
       "      <th>Year</th>\n",
       "      <th>Geography</th>\n",
       "      <th>Parent_Code_1</th>\n",
       "      <th>Parent_Code_2</th>\n",
       "      <th>Org_Code</th>\n",
       "      <th>Contract_Type</th>\n",
       "      <th>Age_Group</th>\n",
       "      <th>Gender</th>\n",
       "      <th>Dentist_Count</th>\n",
       "    </tr>\n",
       "  </thead>\n",
       "  <tbody>\n",
       "    <tr>\n",
       "      <th>17430</th>\n",
       "      <td>2018-19</td>\n",
       "      <td>4.Clinical Commissioning Group</td>\n",
       "      <td>Y56</td>\n",
       "      <td>Q71</td>\n",
       "      <td>07M</td>\n",
       "      <td>GDS</td>\n",
       "      <td>55+</td>\n",
       "      <td>F</td>\n",
       "      <td>1</td>\n",
       "    </tr>\n",
       "  </tbody>\n",
       "</table>\n",
       "</div>"
      ],
      "text/plain": [
       "          Year                       Geography Parent_Code_1 Parent_Code_2  \\\n",
       "17430  2018-19  4.Clinical Commissioning Group           Y56           Q71   \n",
       "\n",
       "      Org_Code Contract_Type Age_Group Gender  Dentist_Count  \n",
       "17430      07M           GDS       55+      F              1  "
      ]
     },
     "metadata": {},
     "output_type": "display_data"
    }
   ],
   "source": [
    "# Compare records dentist1 and dentist2\n",
    "# dentist1[dentist1.Org_Code=='09C']\n",
    "display(dentist1[(dentist1.Org_Code=='07M') & (dentist1.Age_Group=='55+')])\n",
    "display(dentist2[(dentist2.Org_Code=='07M') & (dentist2.Age_Group=='55+')])\n",
    "# Here we can understand as it looks like that dentist2 -- only has records of leavers and joiners\n",
    "# And therefore unfit to be considered."
   ]
  },
  {
   "cell_type": "code",
   "execution_count": 79,
   "metadata": {},
   "outputs": [],
   "source": [
    "# same col check\n",
    "# We can disregard one of them as they are same except for the 'Joiner_Leaver' column in dentist2\n",
    "dentist=dentist1"
   ]
  },
  {
   "attachments": {
    "image.png": {
     "image/png": "[encoded data removed]"
    }
   },
   "cell_type": "markdown",
   "metadata": {},
   "source": [
    "From DD:- Org_Code\tNHS England Clinical Commissioning Group (CCG) Code\n",
    "![image.png](attachment:image.png)"
   ]
  },
  {
   "cell_type": "code",
   "execution_count": 80,
   "metadata": {},
   "outputs": [
    {
     "name": "stdout",
     "output_type": "stream",
     "text": [
      "0\n",
      "(3420, 9)\n"
     ]
    },
    {
     "data": {
      "text/html": [
       "<div>\n",
       "<style scoped>\n",
       "    .dataframe tbody tr th:only-of-type {\n",
       "        vertical-align: middle;\n",
       "    }\n",
       "\n",
       "    .dataframe tbody tr th {\n",
       "        vertical-align: top;\n",
       "    }\n",
       "\n",
       "    .dataframe thead th {\n",
       "        text-align: right;\n",
       "    }\n",
       "</style>\n",
       "<table border=\"1\" class=\"dataframe\">\n",
       "  <thead>\n",
       "    <tr style=\"text-align: right;\">\n",
       "      <th></th>\n",
       "      <th>Year</th>\n",
       "      <th>Geography</th>\n",
       "      <th>Parent_Code_1</th>\n",
       "      <th>Parent_Code_2</th>\n",
       "      <th>Contract_Type</th>\n",
       "      <th>Age_Group</th>\n",
       "      <th>Gender</th>\n",
       "      <th>Dentist_Count</th>\n",
       "      <th>CCG_CODE</th>\n",
       "    </tr>\n",
       "  </thead>\n",
       "  <tbody>\n",
       "    <tr>\n",
       "      <th>33533</th>\n",
       "      <td>2018-19</td>\n",
       "      <td>4.Clinical Commissioning Group</td>\n",
       "      <td>Y56</td>\n",
       "      <td>Q71</td>\n",
       "      <td>GDS</td>\n",
       "      <td>45-54</td>\n",
       "      <td>F</td>\n",
       "      <td>4</td>\n",
       "      <td>07L</td>\n",
       "    </tr>\n",
       "    <tr>\n",
       "      <th>33534</th>\n",
       "      <td>2018-19</td>\n",
       "      <td>4.Clinical Commissioning Group</td>\n",
       "      <td>Y56</td>\n",
       "      <td>Q71</td>\n",
       "      <td>GDS</td>\n",
       "      <td>55+</td>\n",
       "      <td>F</td>\n",
       "      <td>2</td>\n",
       "      <td>07L</td>\n",
       "    </tr>\n",
       "    <tr>\n",
       "      <th>33535</th>\n",
       "      <td>2018-19</td>\n",
       "      <td>4.Clinical Commissioning Group</td>\n",
       "      <td>Y56</td>\n",
       "      <td>Q71</td>\n",
       "      <td>TDS</td>\n",
       "      <td>35-44</td>\n",
       "      <td>F</td>\n",
       "      <td>6</td>\n",
       "      <td>07L</td>\n",
       "    </tr>\n",
       "    <tr>\n",
       "      <th>33536</th>\n",
       "      <td>2018-19</td>\n",
       "      <td>4.Clinical Commissioning Group</td>\n",
       "      <td>Y56</td>\n",
       "      <td>Q71</td>\n",
       "      <td>GDS</td>\n",
       "      <td>35-44</td>\n",
       "      <td>F</td>\n",
       "      <td>30</td>\n",
       "      <td>07M</td>\n",
       "    </tr>\n",
       "    <tr>\n",
       "      <th>33537</th>\n",
       "      <td>2018-19</td>\n",
       "      <td>4.Clinical Commissioning Group</td>\n",
       "      <td>Y56</td>\n",
       "      <td>Q71</td>\n",
       "      <td>GDS</td>\n",
       "      <td>55+</td>\n",
       "      <td>M</td>\n",
       "      <td>30</td>\n",
       "      <td>07M</td>\n",
       "    </tr>\n",
       "  </tbody>\n",
       "</table>\n",
       "</div>"
      ],
      "text/plain": [
       "          Year                       Geography Parent_Code_1 Parent_Code_2  \\\n",
       "33533  2018-19  4.Clinical Commissioning Group           Y56           Q71   \n",
       "33534  2018-19  4.Clinical Commissioning Group           Y56           Q71   \n",
       "33535  2018-19  4.Clinical Commissioning Group           Y56           Q71   \n",
       "33536  2018-19  4.Clinical Commissioning Group           Y56           Q71   \n",
       "33537  2018-19  4.Clinical Commissioning Group           Y56           Q71   \n",
       "\n",
       "      Contract_Type Age_Group Gender  Dentist_Count CCG_CODE  \n",
       "33533           GDS     45-54      F              4      07L  \n",
       "33534           GDS       55+      F              2      07L  \n",
       "33535           TDS     35-44      F              6      07L  \n",
       "33536           GDS     35-44      F             30      07M  \n",
       "33537           GDS       55+      M             30      07M  "
      ]
     },
     "execution_count": 80,
     "metadata": {},
     "output_type": "execute_result"
    }
   ],
   "source": [
    "dentist['CCG_CODE']=dentist['Org_Code']\n",
    "# ## Org_Code is same as CCG_CODE in patients data (check below)...Check Annex2 (Annex2 file cleaned & included in the zip)\n",
    "dentist.drop('Org_Code',inplace=True,axis=1)\n",
    "print(dentist.CCG_CODE.isnull().sum())\n",
    "print(dentist.shape)\n",
    "dentist.head()"
   ]
  },
  {
   "cell_type": "code",
   "execution_count": 81,
   "metadata": {},
   "outputs": [
    {
     "name": "stdout",
     "output_type": "stream",
     "text": [
      "Unique CCG count same?:  True\n",
      "All CCGs available?:  True\n"
     ]
    }
   ],
   "source": [
    "ccg=pd.read_excel('annex2.xlsx')\n",
    "print(\"Unique CCG count same?: \",ccg['Org Code'].nunique()==dentist.CCG_CODE.nunique()) # Unique CCG_CODE(s) matches\n",
    "print(\"All CCGs available?: \",sorted(ccg['Org Code'].unique()) == sorted(dentist['CCG_CODE'].unique()))"
   ]
  },
  {
   "cell_type": "code",
   "execution_count": 82,
   "metadata": {},
   "outputs": [
    {
     "data": {
      "text/plain": [
       "0"
      ]
     },
     "execution_count": 82,
     "metadata": {},
     "output_type": "execute_result"
    }
   ],
   "source": [
    "dentist=dentist[['CCG_CODE','Dentist_Count','Age_Group']]\n",
    "dentist=dentist.groupby(['CCG_CODE','Age_Group']).sum().reset_index()\n",
    "dentist=dentist[['Age_Group','Dentist_Count','CCG_CODE']]\n",
    "dentist.head()\n",
    "\n",
    "dentist.drop_duplicates(inplace=True)\n",
    "dentist.duplicated().sum()"
   ]
  },
  {
   "cell_type": "code",
   "execution_count": 83,
   "metadata": {},
   "outputs": [
    {
     "data": {
      "text/plain": [
       "['Year',\n",
       " 'Geography',\n",
       " 'Parent_Code_1',\n",
       " 'Parent_Code_2',\n",
       " 'Contract_Type',\n",
       " 'Age_Group',\n",
       " 'Gender',\n",
       " 'Dentist_Count',\n",
       " 'CCG_CODE']"
      ]
     },
     "execution_count": 83,
     "metadata": {},
     "output_type": "execute_result"
    }
   ],
   "source": [
    "[x for x in dentist1 if x+\"_d\" not in dentist]"
   ]
  },
  {
   "cell_type": "code",
   "execution_count": 84,
   "metadata": {},
   "outputs": [
    {
     "data": {
      "text/plain": [
       "Index(['Age_Group', 'Dentist_Count', 'CCG_CODE'], dtype='object')"
      ]
     },
     "execution_count": 84,
     "metadata": {},
     "output_type": "execute_result"
    }
   ],
   "source": [
    "dentist.columns"
   ]
  },
  {
   "cell_type": "code",
   "execution_count": 85,
   "metadata": {},
   "outputs": [],
   "source": [
    "dentist.to_csv('dentist_1Dec.csv')"
   ]
  },
  {
   "cell_type": "markdown",
   "metadata": {},
   "source": [
    "PATIENTS DATA (Includes CCG Information)\n",
    "---"
   ]
  },
  {
   "cell_type": "code",
   "execution_count": 86,
   "metadata": {},
   "outputs": [
    {
     "name": "stdout",
     "output_type": "stream",
     "text": [
      "1140471\n",
      "Unallocated count:  Unallocated    3177\n",
      "Name: CCG_CODE, dtype: int64\n",
      "124830\n",
      "Shape before:  (22116, 19)\n",
      "duplicate records:  0\n",
      "Shape after:  (22116, 19)\n"
     ]
    }
   ],
   "source": [
    "patients_juldec_18=pd.read_csv(\"nhs-dent-stat-eng-jul-dec-18-anx3-ps-prac.csv\")\n",
    "print(patients_juldec_18.isnull().sum().sum())\n",
    "print(\"Unallocated count: \",patients_juldec_18[patients_juldec_18['CCG_CODE']=='Unallocated']['CCG_CODE'].value_counts())\n",
    "patients_juldec_18=patients_juldec_18[patients_juldec_18['GEOTYPE']=='CCG']\n",
    "patients_juldec_18.drop('GEOTYPE',inplace=True,axis=1)\n",
    "print(patients_juldec_18.isnull().sum().sum())\n",
    "patients_juldec_18.head(2)\n",
    "\n",
    "print(\"Shape before: \",patients_juldec_18.shape)\n",
    "print('duplicate records: ',patients_juldec_18.duplicated().sum())\n",
    "dd=patients_juldec_18.drop_duplicates()\n",
    "print(\"Shape after: \",patients_juldec_18.shape)"
   ]
  },
  {
   "attachments": {
    "image.png": {
     "image/png": "[encoded data removed]"
    }
   },
   "cell_type": "markdown",
   "metadata": {},
   "source": [
    "![image.png](attachment:image.png)"
   ]
  },
  {
   "cell_type": "code",
   "execution_count": 87,
   "metadata": {},
   "outputs": [
    {
     "name": "stdout",
     "output_type": "stream",
     "text": [
      "1121280\n",
      "Unallocated count:  Unallocated    3306\n",
      "Name: CCG_CODE, dtype: int64\n",
      "109554\n",
      "Shape before:  (21888, 19)\n",
      "duplicate records:  0\n",
      "Shape after:  (21888, 19)\n"
     ]
    }
   ],
   "source": [
    "patients_janjun_19=pd.read_csv(\"nhs-dent-stat-eng-jan-jun-19-anx3-ps-prac.csv\")\n",
    "print(patients_janjun_19.isnull().sum().sum())\n",
    "print(\"Unallocated count: \",patients_janjun_19[patients_janjun_19['CCG_CODE']=='Unallocated']['CCG_CODE'].value_counts())\n",
    "\n",
    "patients_janjun_19=patients_janjun_19[patients_janjun_19['GEOG_TYPE']=='CCG']\n",
    "patients_janjun_19.drop('GEOG_TYPE',inplace=True,axis=1)\n",
    "print(patients_janjun_19.isnull().sum().sum())\n",
    "patients_janjun_19.head(2)\n",
    "\n",
    "print(\"Shape before: \",patients_janjun_19.shape)\n",
    "print('duplicate records: ',patients_janjun_19.duplicated().sum())\n",
    "dd=patients_janjun_19.drop_duplicates()\n",
    "print(\"Shape after: \",patients_janjun_19.shape)"
   ]
  },
  {
   "cell_type": "code",
   "execution_count": 88,
   "metadata": {
    "scrolled": true
   },
   "outputs": [
    {
     "data": {
      "text/plain": [
       "234384"
      ]
     },
     "execution_count": 88,
     "metadata": {},
     "output_type": "execute_result"
    }
   ],
   "source": [
    "patients0=pd.concat([patients_juldec_18,patients_janjun_19])\n",
    "patients0.isnull().sum().sum()"
   ]
  },
  {
   "cell_type": "code",
   "execution_count": 89,
   "metadata": {
    "scrolled": false
   },
   "outputs": [
    {
     "name": "stdout",
     "output_type": "stream",
     "text": [
      "191\n"
     ]
    },
    {
     "data": {
      "text/html": [
       "<div>\n",
       "<style scoped>\n",
       "    .dataframe tbody tr th:only-of-type {\n",
       "        vertical-align: middle;\n",
       "    }\n",
       "\n",
       "    .dataframe tbody tr th {\n",
       "        vertical-align: top;\n",
       "    }\n",
       "\n",
       "    .dataframe thead th {\n",
       "        text-align: right;\n",
       "    }\n",
       "</style>\n",
       "<table border=\"1\" class=\"dataframe\">\n",
       "  <thead>\n",
       "    <tr style=\"text-align: right;\">\n",
       "      <th></th>\n",
       "      <th>CCG_CODE</th>\n",
       "      <th>CCG_NAME</th>\n",
       "      <th>CCG_ONS_CODE</th>\n",
       "      <th>AGE_BAND</th>\n",
       "      <th>PATIENT_TYPE</th>\n",
       "      <th>POPULATION</th>\n",
       "      <th>PATIENTS_SEEN</th>\n",
       "    </tr>\n",
       "  </thead>\n",
       "  <tbody>\n",
       "    <tr>\n",
       "      <th>0</th>\n",
       "      <td>00C</td>\n",
       "      <td>NHS Darlington CCG</td>\n",
       "      <td>E38000042</td>\n",
       "      <td>0</td>\n",
       "      <td>Child</td>\n",
       "      <td>1114.0</td>\n",
       "      <td>613</td>\n",
       "    </tr>\n",
       "    <tr>\n",
       "      <th>1</th>\n",
       "      <td>00C</td>\n",
       "      <td>NHS Darlington CCG</td>\n",
       "      <td>E38000042</td>\n",
       "      <td>1</td>\n",
       "      <td>Child</td>\n",
       "      <td>1212.0</td>\n",
       "      <td>4778</td>\n",
       "    </tr>\n",
       "    <tr>\n",
       "      <th>2</th>\n",
       "      <td>00C</td>\n",
       "      <td>NHS Darlington CCG</td>\n",
       "      <td>E38000042</td>\n",
       "      <td>10</td>\n",
       "      <td>Child</td>\n",
       "      <td>1269.0</td>\n",
       "      <td>12148</td>\n",
       "    </tr>\n",
       "    <tr>\n",
       "      <th>3</th>\n",
       "      <td>00C</td>\n",
       "      <td>NHS Darlington CCG</td>\n",
       "      <td>E38000042</td>\n",
       "      <td>11</td>\n",
       "      <td>Child</td>\n",
       "      <td>1328.0</td>\n",
       "      <td>11120</td>\n",
       "    </tr>\n",
       "    <tr>\n",
       "      <th>4</th>\n",
       "      <td>00C</td>\n",
       "      <td>NHS Darlington CCG</td>\n",
       "      <td>E38000042</td>\n",
       "      <td>12</td>\n",
       "      <td>Child</td>\n",
       "      <td>1218.0</td>\n",
       "      <td>12114</td>\n",
       "    </tr>\n",
       "  </tbody>\n",
       "</table>\n",
       "</div>"
      ],
      "text/plain": [
       "  CCG_CODE            CCG_NAME CCG_ONS_CODE AGE_BAND PATIENT_TYPE  POPULATION  \\\n",
       "0      00C  NHS Darlington CCG    E38000042        0        Child      1114.0   \n",
       "1      00C  NHS Darlington CCG    E38000042        1        Child      1212.0   \n",
       "2      00C  NHS Darlington CCG    E38000042       10        Child      1269.0   \n",
       "3      00C  NHS Darlington CCG    E38000042       11        Child      1328.0   \n",
       "4      00C  NHS Darlington CCG    E38000042       12        Child      1218.0   \n",
       "\n",
       "   PATIENTS_SEEN  \n",
       "0            613  \n",
       "1           4778  \n",
       "2          12148  \n",
       "3          11120  \n",
       "4          12114  "
      ]
     },
     "execution_count": 89,
     "metadata": {},
     "output_type": "execute_result"
    }
   ],
   "source": [
    "patients0=patients0[['CCG_CODE','CCG_NAME','CCG_ONS_CODE','AGE_BAND','PATIENT_TYPE','PATIENTS_SEEN','POPULATION']]\n",
    "patients0=patients0.groupby(['CCG_CODE', 'CCG_NAME', 'CCG_ONS_CODE', 'AGE_BAND', 'PATIENT_TYPE', 'POPULATION']).sum().reset_index()\n",
    "patients0=patients0[patients0.CCG_CODE!='Unallocated']\n",
    "print(patients0.CCG_CODE.nunique())\n",
    "patients0.head()"
   ]
  },
  {
   "cell_type": "code",
   "execution_count": 90,
   "metadata": {},
   "outputs": [
    {
     "name": "stdout",
     "output_type": "stream",
     "text": [
      "(3629, 7)\n",
      "CCG_CODE         0\n",
      "CCG_NAME         0\n",
      "CCG_ONS_CODE     0\n",
      "AGE_BAND         0\n",
      "PATIENT_TYPE     0\n",
      "POPULATION       0\n",
      "PATIENTS_SEEN    0\n",
      "dtype: int64\n",
      "191\n",
      "Index(['CCG_CODE', 'CCG_NAME', 'CCG_ONS_CODE', 'AGE_BAND', 'PATIENT_TYPE',\n",
      "       'POPULATION', 'PATIENTS_SEEN'],\n",
      "      dtype='object')\n"
     ]
    },
    {
     "data": {
      "text/html": [
       "<div>\n",
       "<style scoped>\n",
       "    .dataframe tbody tr th:only-of-type {\n",
       "        vertical-align: middle;\n",
       "    }\n",
       "\n",
       "    .dataframe tbody tr th {\n",
       "        vertical-align: top;\n",
       "    }\n",
       "\n",
       "    .dataframe thead th {\n",
       "        text-align: right;\n",
       "    }\n",
       "</style>\n",
       "<table border=\"1\" class=\"dataframe\">\n",
       "  <thead>\n",
       "    <tr style=\"text-align: right;\">\n",
       "      <th></th>\n",
       "      <th>CCG_CODE</th>\n",
       "      <th>CCG_NAME</th>\n",
       "      <th>CCG_ONS_CODE</th>\n",
       "      <th>AGE_BAND</th>\n",
       "      <th>PATIENT_TYPE</th>\n",
       "      <th>POPULATION</th>\n",
       "      <th>PATIENTS_SEEN</th>\n",
       "    </tr>\n",
       "  </thead>\n",
       "  <tbody>\n",
       "    <tr>\n",
       "      <th>0</th>\n",
       "      <td>00C</td>\n",
       "      <td>NHS Darlington CCG</td>\n",
       "      <td>E38000042</td>\n",
       "      <td>0</td>\n",
       "      <td>Child</td>\n",
       "      <td>1114.0</td>\n",
       "      <td>613</td>\n",
       "    </tr>\n",
       "    <tr>\n",
       "      <th>1</th>\n",
       "      <td>00C</td>\n",
       "      <td>NHS Darlington CCG</td>\n",
       "      <td>E38000042</td>\n",
       "      <td>1</td>\n",
       "      <td>Child</td>\n",
       "      <td>1212.0</td>\n",
       "      <td>4778</td>\n",
       "    </tr>\n",
       "    <tr>\n",
       "      <th>2</th>\n",
       "      <td>00C</td>\n",
       "      <td>NHS Darlington CCG</td>\n",
       "      <td>E38000042</td>\n",
       "      <td>10</td>\n",
       "      <td>Child</td>\n",
       "      <td>1269.0</td>\n",
       "      <td>12148</td>\n",
       "    </tr>\n",
       "    <tr>\n",
       "      <th>3</th>\n",
       "      <td>00C</td>\n",
       "      <td>NHS Darlington CCG</td>\n",
       "      <td>E38000042</td>\n",
       "      <td>11</td>\n",
       "      <td>Child</td>\n",
       "      <td>1328.0</td>\n",
       "      <td>11120</td>\n",
       "    </tr>\n",
       "    <tr>\n",
       "      <th>4</th>\n",
       "      <td>00C</td>\n",
       "      <td>NHS Darlington CCG</td>\n",
       "      <td>E38000042</td>\n",
       "      <td>12</td>\n",
       "      <td>Child</td>\n",
       "      <td>1218.0</td>\n",
       "      <td>12114</td>\n",
       "    </tr>\n",
       "  </tbody>\n",
       "</table>\n",
       "</div>"
      ],
      "text/plain": [
       "  CCG_CODE            CCG_NAME CCG_ONS_CODE AGE_BAND PATIENT_TYPE  POPULATION  \\\n",
       "0      00C  NHS Darlington CCG    E38000042        0        Child      1114.0   \n",
       "1      00C  NHS Darlington CCG    E38000042        1        Child      1212.0   \n",
       "2      00C  NHS Darlington CCG    E38000042       10        Child      1269.0   \n",
       "3      00C  NHS Darlington CCG    E38000042       11        Child      1328.0   \n",
       "4      00C  NHS Darlington CCG    E38000042       12        Child      1218.0   \n",
       "\n",
       "   PATIENTS_SEEN  \n",
       "0            613  \n",
       "1           4778  \n",
       "2          12148  \n",
       "3          11120  \n",
       "4          12114  "
      ]
     },
     "execution_count": 90,
     "metadata": {},
     "output_type": "execute_result"
    }
   ],
   "source": [
    "print(patients0.shape)\n",
    "print(patients0.isnull().sum())\n",
    "print(patients0.CCG_ONS_CODE.nunique())\n",
    "print(patients0.columns)\n",
    "patients0.head()"
   ]
  },
  {
   "cell_type": "markdown",
   "metadata": {},
   "source": [
    "IMD INDEX DATA\n",
    "---"
   ]
  },
  {
   "cell_type": "code",
   "execution_count": 91,
   "metadata": {},
   "outputs": [
    {
     "name": "stdout",
     "output_type": "stream",
     "text": [
      "Shape before:  (191, 12)\n",
      "duplicate records:  0\n",
      "Shape after:  (191, 12)\n"
     ]
    }
   ],
   "source": [
    "imd=pd.read_excel('File_13_-_IoD2019_Clinical_Commissioning_Group__CCG__Summaries.xlsx',sheet_name=1)\n",
    "imd.isnull().sum().sum()\n",
    "\n",
    "print(\"Shape before: \",imd.shape)\n",
    "print('duplicate records: ',imd.duplicated().sum())\n",
    "dd=imd.drop_duplicates()\n",
    "print(\"Shape after: \",imd.shape)"
   ]
  },
  {
   "cell_type": "code",
   "execution_count": 92,
   "metadata": {},
   "outputs": [
    {
     "data": {
      "text/plain": [
       "Index(['Clinical Commissioning Group Code (2019)',\n",
       "       'Clinical Commissioning Group Name (2019)', 'IMD - Average rank',\n",
       "       'IMD - Rank of average rank', 'IMD - Average score',\n",
       "       'IMD - Rank of average score',\n",
       "       'IMD - Proportion of LSOAs in most deprived 10% nationally',\n",
       "       'IMD - Rank of proportion of LSOAs in most deprived 10% nationally',\n",
       "       'IMD 2019 - Extent', 'IMD 2019 - Rank of extent',\n",
       "       'IMD 2019 - Local concentration',\n",
       "       'IMD 2019 - Rank of local concentration'],\n",
       "      dtype='object')"
      ]
     },
     "execution_count": 92,
     "metadata": {},
     "output_type": "execute_result"
    }
   ],
   "source": [
    "imd.columns"
   ]
  },
  {
   "cell_type": "code",
   "execution_count": 93,
   "metadata": {},
   "outputs": [
    {
     "data": {
      "text/html": [
       "<div>\n",
       "<style scoped>\n",
       "    .dataframe tbody tr th:only-of-type {\n",
       "        vertical-align: middle;\n",
       "    }\n",
       "\n",
       "    .dataframe tbody tr th {\n",
       "        vertical-align: top;\n",
       "    }\n",
       "\n",
       "    .dataframe thead th {\n",
       "        text-align: right;\n",
       "    }\n",
       "</style>\n",
       "<table border=\"1\" class=\"dataframe\">\n",
       "  <thead>\n",
       "    <tr style=\"text-align: right;\">\n",
       "      <th></th>\n",
       "      <th>CCG_ONS_CODE</th>\n",
       "      <th>CCG_NAME</th>\n",
       "      <th>IMD</th>\n",
       "    </tr>\n",
       "  </thead>\n",
       "  <tbody>\n",
       "    <tr>\n",
       "      <th>0</th>\n",
       "      <td>E38000001</td>\n",
       "      <td>NHS Airedale, Wharfedale and Craven CCG</td>\n",
       "      <td>20.194</td>\n",
       "    </tr>\n",
       "    <tr>\n",
       "      <th>1</th>\n",
       "      <td>E38000002</td>\n",
       "      <td>NHS Ashford CCG</td>\n",
       "      <td>18.546</td>\n",
       "    </tr>\n",
       "    <tr>\n",
       "      <th>2</th>\n",
       "      <td>E38000004</td>\n",
       "      <td>NHS Barking and Dagenham CCG</td>\n",
       "      <td>32.768</td>\n",
       "    </tr>\n",
       "    <tr>\n",
       "      <th>3</th>\n",
       "      <td>E38000005</td>\n",
       "      <td>NHS Barnet CCG</td>\n",
       "      <td>16.148</td>\n",
       "    </tr>\n",
       "    <tr>\n",
       "      <th>4</th>\n",
       "      <td>E38000006</td>\n",
       "      <td>NHS Barnsley CCG</td>\n",
       "      <td>29.933</td>\n",
       "    </tr>\n",
       "  </tbody>\n",
       "</table>\n",
       "</div>"
      ],
      "text/plain": [
       "  CCG_ONS_CODE                                 CCG_NAME     IMD\n",
       "0    E38000001  NHS Airedale, Wharfedale and Craven CCG  20.194\n",
       "1    E38000002                          NHS Ashford CCG  18.546\n",
       "2    E38000004             NHS Barking and Dagenham CCG  32.768\n",
       "3    E38000005                           NHS Barnet CCG  16.148\n",
       "4    E38000006                         NHS Barnsley CCG  29.933"
      ]
     },
     "execution_count": 93,
     "metadata": {},
     "output_type": "execute_result"
    }
   ],
   "source": [
    "imd['CCG_ONS_CODE']=imd['Clinical Commissioning Group Code (2019)']\n",
    "imd['CCG_NAME']=imd['Clinical Commissioning Group Name (2019)']\n",
    "imd['IMD']=imd['IMD - Average score']\n",
    "imd=imd[['CCG_ONS_CODE','CCG_NAME','IMD']]\n",
    "imd.head()"
   ]
  },
  {
   "cell_type": "code",
   "execution_count": 94,
   "metadata": {},
   "outputs": [
    {
     "data": {
      "text/plain": [
       "Index(['CCG_ONS_CODE', 'CCG_NAME', 'IMD'], dtype='object')"
      ]
     },
     "execution_count": 94,
     "metadata": {},
     "output_type": "execute_result"
    }
   ],
   "source": [
    "imd.columns"
   ]
  },
  {
   "cell_type": "markdown",
   "metadata": {},
   "source": [
    "DATA CLEANING AND REDUCING (Yet to be done)\n",
    "---"
   ]
  },
  {
   "cell_type": "code",
   "execution_count": 95,
   "metadata": {},
   "outputs": [
    {
     "name": "stdout",
     "output_type": "stream",
     "text": [
      "CCG_ONS_CODE    191\n",
      "CCG_NAME        191\n",
      "dtype: int64\n"
     ]
    }
   ],
   "source": [
    "print(imd[['CCG_ONS_CODE','CCG_NAME']].nunique())\n",
    "# Therefore removing CCG_NAME from imd as its present in patients..will join both\n",
    "imd=imd[['CCG_ONS_CODE','IMD']]"
   ]
  },
  {
   "cell_type": "code",
   "execution_count": 96,
   "metadata": {},
   "outputs": [
    {
     "data": {
      "text/html": [
       "<div>\n",
       "<style scoped>\n",
       "    .dataframe tbody tr th:only-of-type {\n",
       "        vertical-align: middle;\n",
       "    }\n",
       "\n",
       "    .dataframe tbody tr th {\n",
       "        vertical-align: top;\n",
       "    }\n",
       "\n",
       "    .dataframe thead th {\n",
       "        text-align: right;\n",
       "    }\n",
       "</style>\n",
       "<table border=\"1\" class=\"dataframe\">\n",
       "  <thead>\n",
       "    <tr style=\"text-align: right;\">\n",
       "      <th></th>\n",
       "      <th>CCG_CODE</th>\n",
       "      <th>CCG_NAME</th>\n",
       "      <th>CCG_ONS_CODE</th>\n",
       "      <th>AGE_BAND</th>\n",
       "      <th>PATIENT_TYPE</th>\n",
       "      <th>POPULATION</th>\n",
       "      <th>PATIENTS_SEEN</th>\n",
       "      <th>IMD</th>\n",
       "    </tr>\n",
       "  </thead>\n",
       "  <tbody>\n",
       "    <tr>\n",
       "      <th>0</th>\n",
       "      <td>00C</td>\n",
       "      <td>NHS Darlington CCG</td>\n",
       "      <td>E38000042</td>\n",
       "      <td>0</td>\n",
       "      <td>Child</td>\n",
       "      <td>1114.0</td>\n",
       "      <td>613</td>\n",
       "      <td>25.657</td>\n",
       "    </tr>\n",
       "    <tr>\n",
       "      <th>1</th>\n",
       "      <td>00C</td>\n",
       "      <td>NHS Darlington CCG</td>\n",
       "      <td>E38000042</td>\n",
       "      <td>1</td>\n",
       "      <td>Child</td>\n",
       "      <td>1212.0</td>\n",
       "      <td>4778</td>\n",
       "      <td>25.657</td>\n",
       "    </tr>\n",
       "    <tr>\n",
       "      <th>2</th>\n",
       "      <td>00C</td>\n",
       "      <td>NHS Darlington CCG</td>\n",
       "      <td>E38000042</td>\n",
       "      <td>10</td>\n",
       "      <td>Child</td>\n",
       "      <td>1269.0</td>\n",
       "      <td>12148</td>\n",
       "      <td>25.657</td>\n",
       "    </tr>\n",
       "    <tr>\n",
       "      <th>3</th>\n",
       "      <td>00C</td>\n",
       "      <td>NHS Darlington CCG</td>\n",
       "      <td>E38000042</td>\n",
       "      <td>11</td>\n",
       "      <td>Child</td>\n",
       "      <td>1328.0</td>\n",
       "      <td>11120</td>\n",
       "      <td>25.657</td>\n",
       "    </tr>\n",
       "    <tr>\n",
       "      <th>4</th>\n",
       "      <td>00C</td>\n",
       "      <td>NHS Darlington CCG</td>\n",
       "      <td>E38000042</td>\n",
       "      <td>12</td>\n",
       "      <td>Child</td>\n",
       "      <td>1218.0</td>\n",
       "      <td>12114</td>\n",
       "      <td>25.657</td>\n",
       "    </tr>\n",
       "  </tbody>\n",
       "</table>\n",
       "</div>"
      ],
      "text/plain": [
       "  CCG_CODE            CCG_NAME CCG_ONS_CODE AGE_BAND PATIENT_TYPE  POPULATION  \\\n",
       "0      00C  NHS Darlington CCG    E38000042        0        Child      1114.0   \n",
       "1      00C  NHS Darlington CCG    E38000042        1        Child      1212.0   \n",
       "2      00C  NHS Darlington CCG    E38000042       10        Child      1269.0   \n",
       "3      00C  NHS Darlington CCG    E38000042       11        Child      1328.0   \n",
       "4      00C  NHS Darlington CCG    E38000042       12        Child      1218.0   \n",
       "\n",
       "   PATIENTS_SEEN     IMD  \n",
       "0            613  25.657  \n",
       "1           4778  25.657  \n",
       "2          12148  25.657  \n",
       "3          11120  25.657  \n",
       "4          12114  25.657  "
      ]
     },
     "execution_count": 96,
     "metadata": {},
     "output_type": "execute_result"
    }
   ],
   "source": [
    "# JOINING PATEINTS AND IMD DFs\n",
    "patients=pd.merge(patients0,imd,how='left',on='CCG_ONS_CODE')\n",
    "patients.head()"
   ]
  },
  {
   "cell_type": "code",
   "execution_count": 97,
   "metadata": {},
   "outputs": [
    {
     "name": "stdout",
     "output_type": "stream",
     "text": [
      "CCG_CODE         0\n",
      "CCG_NAME         0\n",
      "CCG_ONS_CODE     0\n",
      "AGE_BAND         0\n",
      "PATIENT_TYPE     0\n",
      "POPULATION       0\n",
      "PATIENTS_SEEN    0\n",
      "IMD              0\n",
      "dtype: int64\n",
      "(3629, 8)\n",
      "191\n"
     ]
    }
   ],
   "source": [
    "# CHECKS\n",
    "print(patients.isnull().sum())\n",
    "print(patients.shape)\n",
    "print(patients.CCG_ONS_CODE.nunique())\n",
    "# So the original data for patients actually has some 'unallocated' and 'NA' values in CCG_ONS_CODE"
   ]
  },
  {
   "cell_type": "code",
   "execution_count": 98,
   "metadata": {},
   "outputs": [],
   "source": [
    "patients.to_csv('patients_2Dec.csv')"
   ]
  },
  {
   "cell_type": "code",
   "execution_count": 99,
   "metadata": {},
   "outputs": [
    {
     "name": "stdout",
     "output_type": "stream",
     "text": [
      "(14516, 10)\n",
      "CCG_CODE_p         0\n",
      "CCG_NAME_p         0\n",
      "CCG_ONS_CODE_p     0\n",
      "AGE_BAND_p         0\n",
      "PATIENT_TYPE_p     0\n",
      "POPULATION_p       0\n",
      "PATIENTS_SEEN_p    0\n",
      "IMD_p              0\n",
      "Age_Group_d        0\n",
      "Dentist_Count_d    0\n",
      "dtype: int64\n"
     ]
    },
    {
     "data": {
      "text/html": [
       "<div>\n",
       "<style scoped>\n",
       "    .dataframe tbody tr th:only-of-type {\n",
       "        vertical-align: middle;\n",
       "    }\n",
       "\n",
       "    .dataframe tbody tr th {\n",
       "        vertical-align: top;\n",
       "    }\n",
       "\n",
       "    .dataframe thead th {\n",
       "        text-align: right;\n",
       "    }\n",
       "</style>\n",
       "<table border=\"1\" class=\"dataframe\">\n",
       "  <thead>\n",
       "    <tr style=\"text-align: right;\">\n",
       "      <th></th>\n",
       "      <th>CCG_CODE_p</th>\n",
       "      <th>CCG_NAME_p</th>\n",
       "      <th>CCG_ONS_CODE_p</th>\n",
       "      <th>AGE_BAND_p</th>\n",
       "      <th>PATIENT_TYPE_p</th>\n",
       "      <th>POPULATION_p</th>\n",
       "      <th>PATIENTS_SEEN_p</th>\n",
       "      <th>IMD_p</th>\n",
       "      <th>Age_Group_d</th>\n",
       "      <th>Dentist_Count_d</th>\n",
       "    </tr>\n",
       "  </thead>\n",
       "  <tbody>\n",
       "    <tr>\n",
       "      <th>0</th>\n",
       "      <td>00C</td>\n",
       "      <td>NHS Darlington CCG</td>\n",
       "      <td>E38000042</td>\n",
       "      <td>0</td>\n",
       "      <td>Child</td>\n",
       "      <td>1114.0</td>\n",
       "      <td>613</td>\n",
       "      <td>25.657</td>\n",
       "      <td>35-44</td>\n",
       "      <td>27</td>\n",
       "    </tr>\n",
       "    <tr>\n",
       "      <th>1</th>\n",
       "      <td>00C</td>\n",
       "      <td>NHS Darlington CCG</td>\n",
       "      <td>E38000042</td>\n",
       "      <td>0</td>\n",
       "      <td>Child</td>\n",
       "      <td>1114.0</td>\n",
       "      <td>613</td>\n",
       "      <td>25.657</td>\n",
       "      <td>45-54</td>\n",
       "      <td>13</td>\n",
       "    </tr>\n",
       "    <tr>\n",
       "      <th>2</th>\n",
       "      <td>00C</td>\n",
       "      <td>NHS Darlington CCG</td>\n",
       "      <td>E38000042</td>\n",
       "      <td>0</td>\n",
       "      <td>Child</td>\n",
       "      <td>1114.0</td>\n",
       "      <td>613</td>\n",
       "      <td>25.657</td>\n",
       "      <td>55+</td>\n",
       "      <td>6</td>\n",
       "    </tr>\n",
       "    <tr>\n",
       "      <th>3</th>\n",
       "      <td>00C</td>\n",
       "      <td>NHS Darlington CCG</td>\n",
       "      <td>E38000042</td>\n",
       "      <td>0</td>\n",
       "      <td>Child</td>\n",
       "      <td>1114.0</td>\n",
       "      <td>613</td>\n",
       "      <td>25.657</td>\n",
       "      <td>Under 35</td>\n",
       "      <td>28</td>\n",
       "    </tr>\n",
       "    <tr>\n",
       "      <th>4</th>\n",
       "      <td>00C</td>\n",
       "      <td>NHS Darlington CCG</td>\n",
       "      <td>E38000042</td>\n",
       "      <td>1</td>\n",
       "      <td>Child</td>\n",
       "      <td>1212.0</td>\n",
       "      <td>4778</td>\n",
       "      <td>25.657</td>\n",
       "      <td>35-44</td>\n",
       "      <td>27</td>\n",
       "    </tr>\n",
       "  </tbody>\n",
       "</table>\n",
       "</div>"
      ],
      "text/plain": [
       "  CCG_CODE_p          CCG_NAME_p CCG_ONS_CODE_p AGE_BAND_p PATIENT_TYPE_p  \\\n",
       "0        00C  NHS Darlington CCG      E38000042          0          Child   \n",
       "1        00C  NHS Darlington CCG      E38000042          0          Child   \n",
       "2        00C  NHS Darlington CCG      E38000042          0          Child   \n",
       "3        00C  NHS Darlington CCG      E38000042          0          Child   \n",
       "4        00C  NHS Darlington CCG      E38000042          1          Child   \n",
       "\n",
       "   POPULATION_p  PATIENTS_SEEN_p   IMD_p Age_Group_d  Dentist_Count_d  \n",
       "0        1114.0              613  25.657       35-44               27  \n",
       "1        1114.0              613  25.657       45-54               13  \n",
       "2        1114.0              613  25.657         55+                6  \n",
       "3        1114.0              613  25.657    Under 35               28  \n",
       "4        1212.0             4778  25.657       35-44               27  "
      ]
     },
     "execution_count": 99,
     "metadata": {},
     "output_type": "execute_result"
    }
   ],
   "source": [
    "# # CHECKING MERGE OF dentists_ccg and patients_imd\n",
    "dentist.columns = dentist.columns.map(lambda x: str(x) + '_d')\n",
    "patients.columns = patients.columns.map(lambda x: str(x) + '_p')\n",
    "finaldf=pd.merge(patients,dentist,left_on='CCG_CODE_p',right_on='CCG_CODE_d',how='outer')\n",
    "finaldf.drop(['CCG_CODE_d'],inplace=True,axis=1)\n",
    "print(finaldf.shape)\n",
    "print(finaldf.isnull().sum())\n",
    "finaldf.head()"
   ]
  },
  {
   "cell_type": "code",
   "execution_count": 100,
   "metadata": {},
   "outputs": [
    {
     "data": {
      "text/plain": [
       "191"
      ]
     },
     "execution_count": 100,
     "metadata": {},
     "output_type": "execute_result"
    }
   ],
   "source": [
    "finaldf.dropna(inplace=True)\n",
    "finaldf.CCG_CODE_p.nunique()"
   ]
  },
  {
   "cell_type": "code",
   "execution_count": 101,
   "metadata": {},
   "outputs": [
    {
     "name": "stdout",
     "output_type": "stream",
     "text": [
      "0\n"
     ]
    }
   ],
   "source": [
    "print(finaldf.isnull().sum().sum())"
   ]
  },
  {
   "cell_type": "code",
   "execution_count": 102,
   "metadata": {},
   "outputs": [
    {
     "data": {
      "text/html": [
       "<div>\n",
       "<style scoped>\n",
       "    .dataframe tbody tr th:only-of-type {\n",
       "        vertical-align: middle;\n",
       "    }\n",
       "\n",
       "    .dataframe tbody tr th {\n",
       "        vertical-align: top;\n",
       "    }\n",
       "\n",
       "    .dataframe thead th {\n",
       "        text-align: right;\n",
       "    }\n",
       "</style>\n",
       "<table border=\"1\" class=\"dataframe\">\n",
       "  <thead>\n",
       "    <tr style=\"text-align: right;\">\n",
       "      <th></th>\n",
       "      <th>CCG_CODE_p</th>\n",
       "      <th>CCG_NAME_p</th>\n",
       "      <th>CCG_ONS_CODE_p</th>\n",
       "      <th>AGE_BAND_p</th>\n",
       "      <th>PATIENT_TYPE_p</th>\n",
       "      <th>POPULATION_p</th>\n",
       "      <th>PATIENTS_SEEN_p</th>\n",
       "      <th>IMD_p</th>\n",
       "      <th>Age_Group_d</th>\n",
       "      <th>Dentist_Count_d</th>\n",
       "    </tr>\n",
       "  </thead>\n",
       "  <tbody>\n",
       "  </tbody>\n",
       "</table>\n",
       "</div>"
      ],
      "text/plain": [
       "Empty DataFrame\n",
       "Columns: [CCG_CODE_p, CCG_NAME_p, CCG_ONS_CODE_p, AGE_BAND_p, PATIENT_TYPE_p, POPULATION_p, PATIENTS_SEEN_p, IMD_p, Age_Group_d, Dentist_Count_d]\n",
       "Index: []"
      ]
     },
     "execution_count": 102,
     "metadata": {},
     "output_type": "execute_result"
    }
   ],
   "source": [
    "dd=finaldf.copy()\n",
    "duplicate = dd[dd.duplicated()]\n",
    "duplicate"
   ]
  },
  {
   "cell_type": "code",
   "execution_count": 103,
   "metadata": {},
   "outputs": [
    {
     "name": "stdout",
     "output_type": "stream",
     "text": [
      "No nulls in any column\n"
     ]
    }
   ],
   "source": [
    "# # Columns that have NA\n",
    "# finaldf[finaldf[['POPULATION_p','Age_Group_d','Dentist_Count_d','Joiner_Leaver_d']].notnull()]\n",
    "for i in finaldf.columns:\n",
    "    flag=True\n",
    "    if sum(finaldf[i].isna())>0:\n",
    "        print(i)\n",
    "        flag=False\n",
    "if flag:\n",
    "    print(\"No nulls in any column\")"
   ]
  },
  {
   "cell_type": "code",
   "execution_count": 104,
   "metadata": {},
   "outputs": [
    {
     "data": {
      "text/plain": [
       "(14516, 10)"
      ]
     },
     "execution_count": 104,
     "metadata": {},
     "output_type": "execute_result"
    }
   ],
   "source": [
    "finaldf.shape"
   ]
  },
  {
   "cell_type": "code",
   "execution_count": 105,
   "metadata": {},
   "outputs": [],
   "source": [
    "finaldf.to_csv('processed.csv')"
   ]
  },
  {
   "cell_type": "code",
   "execution_count": 106,
   "metadata": {},
   "outputs": [
    {
     "data": {
      "text/html": [
       "<div>\n",
       "<style scoped>\n",
       "    .dataframe tbody tr th:only-of-type {\n",
       "        vertical-align: middle;\n",
       "    }\n",
       "\n",
       "    .dataframe tbody tr th {\n",
       "        vertical-align: top;\n",
       "    }\n",
       "\n",
       "    .dataframe thead th {\n",
       "        text-align: right;\n",
       "    }\n",
       "</style>\n",
       "<table border=\"1\" class=\"dataframe\">\n",
       "  <thead>\n",
       "    <tr style=\"text-align: right;\">\n",
       "      <th></th>\n",
       "      <th>POPULATION_p</th>\n",
       "      <th>PATIENTS_SEEN_p</th>\n",
       "      <th>IMD_p</th>\n",
       "      <th>Dentist_Count_d</th>\n",
       "    </tr>\n",
       "  </thead>\n",
       "  <tbody>\n",
       "    <tr>\n",
       "      <th>count</th>\n",
       "      <td>14516.000000</td>\n",
       "      <td>1.451600e+04</td>\n",
       "      <td>14516.000000</td>\n",
       "      <td>14516.000000</td>\n",
       "    </tr>\n",
       "    <tr>\n",
       "      <th>mean</th>\n",
       "      <td>15326.379168</td>\n",
       "      <td>9.459469e+04</td>\n",
       "      <td>21.910403</td>\n",
       "      <td>43.592932</td>\n",
       "    </tr>\n",
       "    <tr>\n",
       "      <th>std</th>\n",
       "      <td>60114.000420</td>\n",
       "      <td>3.535914e+05</td>\n",
       "      <td>7.974788</td>\n",
       "      <td>34.456340</td>\n",
       "    </tr>\n",
       "    <tr>\n",
       "      <th>min</th>\n",
       "      <td>747.000000</td>\n",
       "      <td>5.300000e+01</td>\n",
       "      <td>7.180000</td>\n",
       "      <td>4.000000</td>\n",
       "    </tr>\n",
       "    <tr>\n",
       "      <th>25%</th>\n",
       "      <td>2109.000000</td>\n",
       "      <td>1.354500e+04</td>\n",
       "      <td>16.148000</td>\n",
       "      <td>20.000000</td>\n",
       "    </tr>\n",
       "    <tr>\n",
       "      <th>50%</th>\n",
       "      <td>3001.000000</td>\n",
       "      <td>2.114500e+04</td>\n",
       "      <td>20.826000</td>\n",
       "      <td>34.000000</td>\n",
       "    </tr>\n",
       "    <tr>\n",
       "      <th>75%</th>\n",
       "      <td>4366.000000</td>\n",
       "      <td>3.171900e+04</td>\n",
       "      <td>27.301000</td>\n",
       "      <td>56.250000</td>\n",
       "    </tr>\n",
       "    <tr>\n",
       "      <th>max</th>\n",
       "      <td>962934.000000</td>\n",
       "      <td>5.092375e+06</td>\n",
       "      <td>52.139000</td>\n",
       "      <td>258.000000</td>\n",
       "    </tr>\n",
       "  </tbody>\n",
       "</table>\n",
       "</div>"
      ],
      "text/plain": [
       "        POPULATION_p  PATIENTS_SEEN_p         IMD_p  Dentist_Count_d\n",
       "count   14516.000000     1.451600e+04  14516.000000     14516.000000\n",
       "mean    15326.379168     9.459469e+04     21.910403        43.592932\n",
       "std     60114.000420     3.535914e+05      7.974788        34.456340\n",
       "min       747.000000     5.300000e+01      7.180000         4.000000\n",
       "25%      2109.000000     1.354500e+04     16.148000        20.000000\n",
       "50%      3001.000000     2.114500e+04     20.826000        34.000000\n",
       "75%      4366.000000     3.171900e+04     27.301000        56.250000\n",
       "max    962934.000000     5.092375e+06     52.139000       258.000000"
      ]
     },
     "execution_count": 106,
     "metadata": {},
     "output_type": "execute_result"
    }
   ],
   "source": [
    "finaldf.describe()"
   ]
  }
 ],
 "metadata": {
  "kernelspec": {
   "display_name": "Python 3 (ipykernel)",
   "language": "python",
   "name": "python3"
  },
  "language_info": {
   "codemirror_mode": {
    "name": "ipython",
    "version": 3
   },
   "file_extension": ".py",
   "mimetype": "text/x-python",
   "name": "python",
   "nbconvert_exporter": "python",
   "pygments_lexer": "ipython3",
   "version": "3.8.12"
  }
 },
 "nbformat": 4,
 "nbformat_minor": 2
}
